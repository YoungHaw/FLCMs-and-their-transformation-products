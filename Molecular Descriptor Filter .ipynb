{
 "cells": [
  {
   "cell_type": "code",
   "execution_count": 1,
   "id": "71d50aa1-396f-496b-860b-368c526a5036",
   "metadata": {},
   "outputs": [],
   "source": [
    "import pandas as pd\n",
    "import numpy as np\n",
    "import seaborn as sns\n",
    "import matplotlib.pyplot as plt\n",
    "from sklearn.feature_selection import VarianceThreshold\n",
    "from sklearn.preprocessing import StandardScaler"
   ]
  },
  {
   "cell_type": "code",
   "execution_count": 2,
   "id": "498994dd-247a-4fcd-adc6-11f5170af50d",
   "metadata": {},
   "outputs": [],
   "source": [
    "file_path = \"1.xlsx\"\n",
    "df = pd.read_excel(file_path, sheet_name=\"Sheet1\")"
   ]
  },
  {
   "cell_type": "code",
   "execution_count": 3,
   "id": "5057d7af-e968-46c7-bf78-a683a20bb2b5",
   "metadata": {},
   "outputs": [],
   "source": [
    "df = df.dropna(axis=1)\n",
    "\n",
    "mol_names = df[\"name\"]\n",
    "X = df.drop(columns=[\"name\"])"
   ]
  },
  {
   "cell_type": "code",
   "execution_count": 4,
   "id": "badc0647-116f-4ec3-b980-cf8ea3f2f226",
   "metadata": {},
   "outputs": [],
   "source": [
    "var_thresholder = VarianceThreshold(threshold=0.01)\n",
    "X_var = var_thresholder.fit_transform(X)\n",
    "var_selected_features = X.columns[var_thresholder.get_support()]"
   ]
  },
  {
   "cell_type": "code",
   "execution_count": 5,
   "id": "b2695781-416f-4ff0-95cd-69ca40488c85",
   "metadata": {},
   "outputs": [],
   "source": [
    "X_var_df = pd.DataFrame(X_var, columns=var_selected_features)\n",
    "corr_matrix = X_var_df.corr().abs()"
   ]
  },
  {
   "cell_type": "code",
   "execution_count": 6,
   "id": "0904ce7a-d77a-494b-afec-9fefdd4fc722",
   "metadata": {},
   "outputs": [],
   "source": [
    "upper = corr_matrix.where(np.triu(np.ones(corr_matrix.shape), k=1).astype(bool))\n",
    "to_drop = [col for col in upper.columns if any(upper[col] > 0.9)]\n",
    "\n",
    "X_corr = X_var_df.drop(columns=to_drop)\n",
    "final_features = X_corr.columns.tolist()"
   ]
  },
  {
   "cell_type": "code",
   "execution_count": 7,
   "id": "bd97cabd-44cf-4a1d-8b7e-0590d0075325",
   "metadata": {},
   "outputs": [],
   "source": [
    "scaler = StandardScaler()\n",
    "X_scaled = scaler.fit_transform(X_corr)"
   ]
  },
  {
   "cell_type": "code",
   "execution_count": 8,
   "id": "60270fe9-c6ad-4616-af8d-fada86696a45",
   "metadata": {},
   "outputs": [
    {
     "name": "stdout",
     "output_type": "stream",
     "text": [
      "The original characteristic number: 1444\n",
      "After deleting the blank column: 1407\n",
      "After low variance filtering: 877\n",
      "After correlation filtering: 302\n",
      "Preserved descriptors: ['nAcid', 'ALogP', 'ALogp2', 'AMR', 'apol', 'naAromAtom', 'nO', 'nS', 'nF', 'AATS0m', 'AATS4m', 'AATS5m', 'AATS6m', 'AATS0v', 'AATS4v', 'AATS3e', 'AATS4e', 'AATS5e', 'AATS6e', 'AATS7e', 'AATS8e', 'AATS0p', 'AATS0i', 'AATS1i', 'AATS2i', 'AATS3i', 'AATS4i', 'AATS5i', 'AATS4s', 'AATS5s', 'AATS6s', 'AATS7s', 'AATS8s', 'ATSC0c', 'ATSC1c', 'ATSC2c', 'ATSC3c', 'ATSC4c', 'ATSC5c', 'ATSC6c', 'ATSC7c', 'ATSC1m', 'ATSC2m', 'ATSC3m', 'ATSC4m', 'ATSC5m', 'ATSC6m', 'ATSC7m', 'ATSC8m', 'ATSC1v', 'ATSC2v', 'ATSC3v', 'ATSC4v', 'ATSC5v', 'ATSC6v', 'ATSC7v', 'ATSC8v', 'ATSC1e', 'ATSC2e', 'ATSC3e', 'ATSC4e', 'ATSC5e', 'ATSC6e', 'ATSC7e', 'ATSC8e', 'ATSC1p', 'ATSC2p', 'ATSC3p', 'ATSC4p', 'ATSC5p', 'ATSC6p', 'ATSC7p', 'ATSC8p', 'ATSC2i', 'ATSC3i', 'ATSC4i', 'ATSC5i', 'ATSC6i', 'ATSC7i', 'ATSC8i', 'ATSC1s', 'AATSC0m', 'AATSC1m', 'AATSC2m', 'AATSC3m', 'AATSC4m', 'AATSC5m', 'AATSC6m', 'AATSC7m', 'AATSC8m', 'AATSC1v', 'AATSC2v', 'AATSC3v', 'AATSC4v', 'AATSC5v', 'AATSC6v', 'AATSC7v', 'AATSC8v', 'AATSC0i', 'AATSC1i', 'AATSC2i', 'AATSC3i', 'AATSC4i', 'AATSC5i', 'AATSC6i', 'AATSC7i', 'AATSC8i', 'AATSC1s', 'AATSC2s', 'AATSC3s', 'AATSC7s', 'AATSC8s', 'MATS1c', 'MATS2c', 'MATS3c', 'MATS4c', 'MATS5c', 'MATS6c', 'MATS7c', 'MATS8c', 'MATS1e', 'MATS3e', 'MATS7e', 'MATS8e', 'MATS2p', 'MATS5p', 'MATS6p', 'MATS7p', 'MATS8p', 'MATS2i', 'MATS5i', 'MATS6i', 'MATS7i', 'MATS1s', 'GATS1c', 'GATS2c', 'GATS3c', 'GATS4c', 'GATS5c', 'GATS7c', 'GATS8c', 'GATS1m', 'GATS2m', 'GATS3m', 'GATS5m', 'GATS6m', 'GATS7m', 'GATS8m', 'GATS2v', 'GATS4v', 'GATS5v', 'GATS1e', 'GATS2e', 'GATS3e', 'GATS4e', 'GATS5e', 'GATS6e', 'GATS1p', 'GATS2p', 'GATS3p', 'GATS4p', 'GATS1i', 'GATS2i', 'GATS3i', 'GATS4i', 'GATS5i', 'GATS6i', 'VE1_DzZ', 'VE3_DzZ', 'VR1_DzZ', 'VE1_Dzv', 'VE1_Dzp', 'VE3_Dzp', 'VR1_Dzp', 'VE1_Dzs', 'VE3_Dzs', 'VR1_Dzs', 'BCUTw-1h', 'BCUTc-1h', 'BCUTp-1l', 'BCUTp-1h', 'nBondsD', 'SpMax1_Bhm', 'SpMin1_Bhm', 'SpMin5_Bhm', 'SpMin5_Bhe', 'SpMax1_Bhs', 'SpMax2_Bhs', 'SpMax3_Bhs', 'SpMax4_Bhs', 'SpMax5_Bhs', 'SpMin5_Bhs', 'C1SP2', 'C1SP3', 'SCH-6', 'SCH-7', 'SC-4', 'CrippenLogP', 'VE3_Dt', 'VR1_Dt', 'nHBd', 'nwHBd', 'nHBint2', 'nHBint3', 'nHBint4', 'nHBint5', 'nHBint6', 'nHBint7', 'nHBint8', 'nHBint9', 'nHBint10', 'nHsSH', 'nHdCH2', 'nHdsCH', 'nHCsatu', 'nsCH3', 'nsssCH', 'ndssC', 'nssssC', 'ndO', 'nssO', 'nsOm', 'SwHBa', 'SHBint3', 'SdsCH', 'SsssCH', 'SdssC', 'SaasC', 'SddssS', 'minHBd', 'minHBa', 'minwHBa', 'minHBint2', 'minHBint3', 'minHBint4', 'minHBint5', 'minHBint6', 'minHBint7', 'minHBint8', 'minHBint9', 'minHBint10', 'minHdsCH', 'minHaaCH', 'minHCsats', 'minHCsatu', 'minHother', 'minsCH3', 'minssCH2', 'mindsCH', 'minaaCH', 'minsssCH', 'mindssC', 'minaasC', 'minsOH', 'mindO', 'minssO', 'minsF', 'maxHBa', 'maxwHBa', 'maxHCsats', 'maxHother', 'maxssCH2', 'maxaaCH', 'maxdssC', 'maxaasC', 'hmax', 'hmin', 'ETA_BetaP', 'ETA_dBeta', 'ETA_Beta_ns_d', 'ETA_EtaP_F', 'FMF', 'IC0', 'IC1', 'IC2', 'SIC1', 'SIC2', 'SIC4', 'CIC4', 'nAtomLC', 'nAtomLAC', 'MDEC-13', 'MDEC-14', 'MDEC-44', 'MDEO-11', 'MDEO-12', 'MDEO-22', 'MLFER_A', 'MLFER_S', 'MLFER_E', 'R_TpiPCTPC', 'n5Ring', 'nFRing', 'nF6Ring', 'nHeteroRing', 'n6HeteroRing', 'nT6HeteroRing', 'RotBtFrac', 'LipinskiFailures', 'topoShape', 'VE3_D', 'VR1_D']\n",
      "The filtered descriptor data has been saved to: filtered_descriptors1.xlsx\n"
     ]
    }
   ],
   "source": [
    "print(\"The original characteristic number:\", len(pd.read_excel(file_path, sheet_name=\"Sheet1\").columns) - 1)  # 减去name列\n",
    "print(\"After deleting the blank column:\", X.shape[1])\n",
    "print(\"After low variance filtering:\", X_var_df.shape[1])\n",
    "print(\"After correlation filtering:\", X_corr.shape[1])\n",
    "print(\"Preserved descriptors:\", final_features)\n",
    "df_selected = pd.concat([mol_names, X_corr], axis=1)\n",
    "output_file = \"filtered_descriptors1.xlsx\"\n",
    "df_selected.to_excel(output_file, index=False)\n",
    "print(f\"The filtered descriptor data has been saved to: {output_file}\")"
   ]
  }
 ],
 "metadata": {
  "kernelspec": {
   "display_name": "Python 3 (ipykernel)",
   "language": "python",
   "name": "python3"
  },
  "language_info": {
   "codemirror_mode": {
    "name": "ipython",
    "version": 3
   },
   "file_extension": ".py",
   "mimetype": "text/x-python",
   "name": "python",
   "nbconvert_exporter": "python",
   "pygments_lexer": "ipython3",
   "version": "3.13.5"
  }
 },
 "nbformat": 4,
 "nbformat_minor": 5
}

{
 "cells": [
  {
   "cell_type": "code",
   "execution_count": 12,
   "id": "2b74c4c6-cab7-40a2-afcf-e2bfa1858bfa",
   "metadata": {},
   "outputs": [],
   "source": [
    "import pandas as pd\n",
    "import numpy as np\n",
    "from sklearn.preprocessing import MinMaxScaler\n",
    "from sklearn.metrics import silhouette_score\n",
    "from scipy.cluster.hierarchy import linkage, dendrogram, fcluster\n",
    "import matplotlib.pyplot as plt\n",
    "import seaborn as sns"
   ]
  },
  {
   "cell_type": "code",
   "execution_count": 13,
   "id": "f42abce4-849b-4700-8473-bd7b551368d3",
   "metadata": {},
   "outputs": [],
   "source": [
    "plt.rcParams['font.family'] = 'Times New Roman'"
   ]
  },
  {
   "cell_type": "code",
   "execution_count": 14,
   "id": "e7d33963-b870-464b-bc9b-2b1dc114dfe5",
   "metadata": {},
   "outputs": [],
   "source": [
    "df = pd.read_excel(\"Toxicity_Data.xlsx\")"
   ]
  },
  {
   "cell_type": "code",
   "execution_count": 15,
   "id": "6dc714fc-f224-4f5e-85cf-1ce69cc08a0e",
   "metadata": {},
   "outputs": [],
   "source": [
    "toxicity_values = df[['Toxicity_Score']].values\n",
    "scaler = MinMaxScaler()\n",
    "toxicity_scaled = scaler.fit_transform(toxicity_values)"
   ]
  },
  {
   "cell_type": "code",
   "execution_count": 16,
   "id": "d50c14c5-fda2-45ad-bf48-d97275ab37f0",
   "metadata": {},
   "outputs": [],
   "source": [
    "Z = linkage(toxicity_scaled, method='ward')"
   ]
  },
  {
   "cell_type": "code",
   "execution_count": 17,
   "id": "9c0172ed-a539-413a-9a73-05fba416dcd1",
   "metadata": {},
   "outputs": [],
   "source": [
    "plt.figure(figsize=(10, 6))\n",
    "dendrogram(Z, labels=df['NAME'].values, leaf_rotation=90)\n",
    "plt.title(\"Hierarchical Clustering Dendrogram of Compounds\")\n",
    "plt.xlabel(\"Compound\")\n",
    "plt.ylabel(\"Distance\")\n",
    "plt.tight_layout()\n",
    "plt.savefig(\"dendrogram.png\", dpi=300)\n",
    "plt.close()"
   ]
  },
  {
   "cell_type": "code",
   "execution_count": 18,
   "id": "06c50a10-2e6b-4f4b-96b1-7102846b5a28",
   "metadata": {},
   "outputs": [],
   "source": [
    "num_clusters = 3\n",
    "cluster_labels = fcluster(Z, num_clusters, criterion='maxclust')\n",
    "df['Initial_Cluster'] = cluster_labels"
   ]
  },
  {
   "cell_type": "code",
   "execution_count": 19,
   "id": "edcb97b5-e5e1-446d-9165-6ad230cf021d",
   "metadata": {},
   "outputs": [],
   "source": [
    "cluster_mean = df.groupby('Initial_Cluster')['Toxicity_Score'].mean().sort_values(ascending=False)\n",
    "risk_map = {old: new for new, old in enumerate(cluster_mean.index, start=1)}\n",
    "df['Risk_Level'] = df['Initial_Cluster'].map(risk_map)"
   ]
  },
  {
   "cell_type": "code",
   "execution_count": 20,
   "id": "8955df0a-38d9-4c78-b66c-f778357a91c5",
   "metadata": {},
   "outputs": [
    {
     "name": "stdout",
     "output_type": "stream",
     "text": [
      "silhoustte coefficient: 0.602\n"
     ]
    }
   ],
   "source": [
    "sil_score = silhouette_score(toxicity_scaled, df['Risk_Level'])\n",
    "print(f\"silhoustte coefficient: {sil_score:.3f}\")"
   ]
  },
  {
   "cell_type": "code",
   "execution_count": 21,
   "id": "1aeddbd6-e636-4cf5-b37b-09c9554e70e2",
   "metadata": {},
   "outputs": [],
   "source": [
    "plt.figure(figsize=(8, 5))\n",
    "sns.scatterplot(x=range(len(df)), y=df['Toxicity_Score'], hue=df['Risk_Level'], palette='Set1')\n",
    "plt.title(f\"Toxicity Clustering Scatter Plot (Silhouette Score = {sil_score:.3f})\")\n",
    "plt.xlabel(\"Sample Index\")\n",
    "plt.ylabel(\"Toxicity Score\")\n",
    "plt.legend(title=\"Risk Level\", labels=[\"Low\", \"Medium\", \"High\"])\n",
    "plt.tight_layout()\n",
    "plt.savefig(\"cluster_scatter.png\", dpi=300)\n",
    "plt.close()"
   ]
  },
  {
   "cell_type": "code",
   "execution_count": 22,
   "id": "ff5bf679-334c-4891-beb8-4dbd5049db03",
   "metadata": {},
   "outputs": [],
   "source": [
    "output_df = df[['NAME', 'Toxicity_Score']].copy()\n",
    "output_df['Risk_Level'] = df['Risk_Level'].map({1: 'High', 2: 'Medium', 3: 'Low'})\n",
    "output_df.columns = ['Compound_Name', 'Toxicity_Score', 'Risk_Level']\n",
    "output_df.to_excel(\"Toxicity_Risk_Classification.xlsx\", index=False)"
   ]
  }
 ],
 "metadata": {
  "kernelspec": {
   "display_name": "Python 3 (ipykernel)",
   "language": "python",
   "name": "python3"
  },
  "language_info": {
   "codemirror_mode": {
    "name": "ipython",
    "version": 3
   },
   "file_extension": ".py",
   "mimetype": "text/x-python",
   "name": "python",
   "nbconvert_exporter": "python",
   "pygments_lexer": "ipython3",
   "version": "3.13.5"
  }
 },
 "nbformat": 4,
 "nbformat_minor": 5
}
